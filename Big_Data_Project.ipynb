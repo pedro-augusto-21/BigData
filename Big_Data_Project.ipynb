{
 "cells": [
  {
   "cell_type": "code",
   "execution_count": 3,
   "id": "09846589",
   "metadata": {
    "scrolled": false
   },
   "outputs": [
    {
     "name": "stdout",
     "output_type": "stream",
     "text": [
      "Requirement already satisfied: pyspark in c:\\users\\utilizador\\anaconda3\\lib\\site-packages (3.3.1)\n",
      "Requirement already satisfied: py4j==0.10.9.5 in c:\\users\\utilizador\\anaconda3\\lib\\site-packages (from pyspark) (0.10.9.5)\n",
      "Requirement already satisfied: findspark in c:\\users\\utilizador\\anaconda3\\lib\\site-packages (2.0.1)\n"
     ]
    }
   ],
   "source": [
    "!pip install pyspark\n",
    "!pip install findspark"
   ]
  },
  {
   "cell_type": "code",
   "execution_count": 4,
   "id": "204b1a1e",
   "metadata": {},
   "outputs": [
    {
     "data": {
      "text/html": [
       "\n",
       "            <div>\n",
       "                <p><b>SparkSession - in-memory</b></p>\n",
       "                \n",
       "        <div>\n",
       "            <p><b>SparkContext</b></p>\n",
       "\n",
       "            <p><a href=\"http://DESKTOP-65GCHHN:4040\">Spark UI</a></p>\n",
       "\n",
       "            <dl>\n",
       "              <dt>Version</dt>\n",
       "                <dd><code>v3.3.1</code></dd>\n",
       "              <dt>Master</dt>\n",
       "                <dd><code>local[*]</code></dd>\n",
       "              <dt>AppName</dt>\n",
       "                <dd><code>Pyspark</code></dd>\n",
       "            </dl>\n",
       "        </div>\n",
       "        \n",
       "            </div>\n",
       "        "
      ],
      "text/plain": [
       "<pyspark.sql.session.SparkSession at 0x207a7b32ee0>"
      ]
     },
     "execution_count": 4,
     "metadata": {},
     "output_type": "execute_result"
    }
   ],
   "source": [
    "from pyspark.sql import SparkSession\n",
    "import findspark\n",
    "import pyspark\n",
    "from pyspark.sql import SparkSession\n",
    "from pyspark.sql.functions import *\n",
    "from pyspark.sql.functions import *\n",
    "from pyspark.sql.types import *\n",
    "\n",
    "findspark.init()\n",
    "\n",
    "spark = SparkSession.builder.appName(\"Pyspark\")\\\n",
    "                            .config(\"spark.memory.offHeap.enable\",\"true\")\\\n",
    "                            .config(\"spark.memory.offHeap.size\",\"10g\")\\\n",
    "                            .getOrCreate()\n",
    "\n",
    "spark"
   ]
  },
  {
   "cell_type": "code",
   "execution_count": 5,
   "id": "f2437669",
   "metadata": {},
   "outputs": [
    {
     "name": "stderr",
     "output_type": "stream",
     "text": [
      "  % Total    % Received % Xferd  Average Speed   Time    Time     Time  Current\n",
      "                                 Dload  Upload   Total   Spent    Left  Speed\n",
      "\n",
      "  0     0    0     0    0     0      0      0 --:--:-- --:--:-- --:--:--     0\n",
      " 77 11.1M   77 8770k    0     0  9813k      0  0:00:01 --:--:--  0:00:01 9821k\n",
      "100 11.1M  100 11.1M    0     0   9.8M      0  0:00:01  0:00:01 --:--:--  9.9M\n"
     ]
    }
   ],
   "source": [
    "!curl https://raw.githubusercontent.com/pedro-augusto-21/BigData/main/portugal_ads_proprieties.csv >> portugal_ads_proprieties.csv"
   ]
  },
  {
   "cell_type": "code",
   "execution_count": 6,
   "id": "b56f0f0c",
   "metadata": {},
   "outputs": [],
   "source": [
    "#Lemos o ficheiro excel \n",
    "df = spark.read.csv(\"portugal_ads_proprieties.csv\",header=True,sep=\",\")"
   ]
  },
  {
   "cell_type": "code",
   "execution_count": 4,
   "id": "e8055bce",
   "metadata": {},
   "outputs": [
    {
     "name": "stdout",
     "output_type": "stream",
     "text": [
      "root\n",
      " |-- Location: string (nullable = true)\n",
      " |-- Rooms: string (nullable = true)\n",
      " |-- Price: string (nullable = true)\n",
      " |-- Area: string (nullable = true)\n",
      " |-- Bathrooms: string (nullable = true)\n",
      " |-- Condition: string (nullable = true)\n",
      " |-- AdsType: string (nullable = true)\n",
      " |-- ProprietyType: string (nullable = true)\n",
      "\n"
     ]
    }
   ],
   "source": [
    "#Tratamento de erros, eliminamos todas as rows com nulls\n",
    "df = df.dropna()\n",
    "df.printSchema()"
   ]
  },
  {
   "cell_type": "code",
   "execution_count": 5,
   "id": "041c451d",
   "metadata": {},
   "outputs": [
    {
     "name": "stdout",
     "output_type": "stream",
     "text": [
      "root\n",
      " |-- Location: string (nullable = true)\n",
      " |-- Rooms: integer (nullable = true)\n",
      " |-- Price: integer (nullable = true)\n",
      " |-- Area: integer (nullable = true)\n",
      " |-- Bathrooms: integer (nullable = true)\n",
      " |-- Condition: string (nullable = true)\n",
      " |-- AdsType: string (nullable = true)\n",
      " |-- ProprietyType: string (nullable = true)\n",
      "\n"
     ]
    }
   ],
   "source": [
    "from pyspark.sql.functions import col\n",
    "from pyspark.sql.types import StringType,BooleanType,DateType\n",
    "df = df.withColumn(\"Rooms\",col(\"Rooms\").cast(IntegerType())) \\\n",
    "    .withColumn(\"Price\",col(\"Price\").cast(IntegerType())) \\\n",
    "    .withColumn(\"Area\",col(\"Area\").cast(IntegerType())) \\\n",
    "    .withColumn(\"Bathrooms\",col(\"Bathrooms\").cast(IntegerType()))\n",
    "df.printSchema()"
   ]
  },
  {
   "cell_type": "code",
   "execution_count": 6,
   "id": "721f1336",
   "metadata": {
    "scrolled": true
   },
   "outputs": [
    {
     "name": "stdout",
     "output_type": "stream",
     "text": [
      "+----------------------------------+-----+-----+----+---------+---------+-------+-------------+\n",
      "|Location                          |Rooms|Price|Area|Bathrooms|Condition|AdsType|ProprietyType|\n",
      "+----------------------------------+-----+-----+----+---------+---------+-------+-------------+\n",
      "| Espinho, Aveiro                  |3    |1000 |125 |3        |Used     |Rent   |Apartament   |\n",
      "| Válega, Ovar, Aveiro             |3    |750  |138 |2        |New      |Rent   |Apartament   |\n",
      "| Gafanha da Nazaré, Ílhavo, Aveiro|1    |450  |32  |2        |New      |Rent   |Apartament   |\n",
      "| Esmoriz, Ovar, Aveiro            |3    |1300 |129 |3        |Used     |Rent   |Apartament   |\n",
      "| Esmoriz, Ovar, Aveiro            |3    |1300 |153 |3        |Renovated|Rent   |Apartament   |\n",
      "+----------------------------------+-----+-----+----+---------+---------+-------+-------------+\n",
      "only showing top 5 rows\n",
      "\n"
     ]
    }
   ],
   "source": [
    "df.show(5,0)"
   ]
  },
  {
   "cell_type": "code",
   "execution_count": 7,
   "id": "637b5663",
   "metadata": {
    "scrolled": true
   },
   "outputs": [
    {
     "data": {
      "text/plain": [
       "93806"
      ]
     },
     "execution_count": 7,
     "metadata": {},
     "output_type": "execute_result"
    }
   ],
   "source": [
    "#Contamos o número de linhas do dataset\n",
    "df.count()"
   ]
  },
  {
   "cell_type": "code",
   "execution_count": 8,
   "id": "a8ff869c",
   "metadata": {},
   "outputs": [
    {
     "data": {
      "text/plain": [
       "2431"
      ]
     },
     "execution_count": 8,
     "metadata": {},
     "output_type": "execute_result"
    }
   ],
   "source": [
    "#Contamos o número de Localizações diferentes no dataset\n",
    "df.select('Location').distinct().count()"
   ]
  },
  {
   "cell_type": "code",
   "execution_count": 9,
   "id": "40d33ca3",
   "metadata": {
    "scrolled": true
   },
   "outputs": [
    {
     "name": "stdout",
     "output_type": "stream",
     "text": [
      "+--------------------+-----------+\n",
      "|            Location|House_count|\n",
      "+--------------------+-----------+\n",
      "| Cedofeita, Santo...|       1875|\n",
      "| Matosinhos e Leç...|       1635|\n",
      "|     Paranhos, Porto|       1577|\n",
      "| Montijo e Afonso...|       1396|\n",
      "| Albufeira e Olho...|       1319|\n",
      "| Canidelo, Vila N...|       1305|\n",
      "| Santa Marinha e ...|       1274|\n",
      "| Cascais e Estori...|       1196|\n",
      "| Glória e Vera Cr...|       1108|\n",
      "| Quarteira, Loulé...|       1079|\n",
      "| Mafamude e Vilar...|        983|\n",
      "|      Ramalde, Porto|        959|\n",
      "|      Portimão, Faro|        896|\n",
      "| Castelo (Sesimbr...|        755|\n",
      "| São Gonçalo de L...|        736|\n",
      "| Póvoa de Varzim,...|        725|\n",
      "| Fernão Ferro, Se...|        693|\n",
      "| Ermesinde, Valon...|        656|\n",
      "|       Bonfim, Porto|        628|\n",
      "| São Martinho, Fu...|        608|\n",
      "+--------------------+-----------+\n",
      "only showing top 20 rows\n",
      "\n"
     ]
    }
   ],
   "source": [
    "#Usamos as áreas das casas para contar o número de casas por Location e apresentamos de forma descendente\n",
    "df.groupBy('Location').agg(count('Area').alias('House_count')).orderBy(desc('House_count')).show()"
   ]
  },
  {
   "cell_type": "code",
   "execution_count": 10,
   "id": "ebe5bf22",
   "metadata": {},
   "outputs": [],
   "source": [
    "#Split da coluna Location \n",
    "split_cols = pyspark.sql.functions.split(df['Location'], ',')\n",
    "\n",
    "#Adiciona as colunas Perish e County, eliminamos a coluna Location\n",
    "df1 = df.withColumn('Perish', split_cols.getItem(0)) \\\n",
    "    .withColumn('County', split_cols.getItem(1)).drop('Location')"
   ]
  },
  {
   "cell_type": "code",
   "execution_count": 11,
   "id": "f482e766",
   "metadata": {
    "scrolled": true
   },
   "outputs": [
    {
     "name": "stdout",
     "output_type": "stream",
     "text": [
      "+-----+-----+----+---------+---------+-------+-------------+--------------------+----------+\n",
      "|Rooms|Price|Area|Bathrooms|Condition|AdsType|ProprietyType|              Perish|    County|\n",
      "+-----+-----+----+---------+---------+-------+-------------+--------------------+----------+\n",
      "|    3| 1000| 125|        3|     Used|   Rent|   Apartament|             Espinho|    Aveiro|\n",
      "|    3|  750| 138|        2|      New|   Rent|   Apartament|              Válega|      Ovar|\n",
      "|    1|  450|  32|        2|      New|   Rent|   Apartament|   Gafanha da Nazaré|    Ílhavo|\n",
      "|    3| 1300| 129|        3|     Used|   Rent|   Apartament|             Esmoriz|      Ovar|\n",
      "|    3| 1300| 153|        3|Renovated|   Rent|   Apartament|             Esmoriz|      Ovar|\n",
      "|    2|  850|  88|        2|Renovated|   Rent|   Apartament|            Esgueira|    Aveiro|\n",
      "|    2|  625|  90|        2|     Used|   Rent|   Apartament| Santa Maria da F...|  Travanca|\n",
      "|    2|  825|  77|        2|      New|   Rent|   Apartament|             Espinho|    Aveiro|\n",
      "|    2|  950|  79|        2|      New|   Rent|   Apartament|             Espinho|    Aveiro|\n",
      "|    3| 1050| 122|        3|     Used|   Rent|   Apartament|  Glória e Vera Cruz|    Aveiro|\n",
      "|    3| 1100| 124|        3|      New|   Rent|   Apartament|             Espinho|    Aveiro|\n",
      "|    1|  595|  86|        1|     Used|   Rent|   Apartament|            Pardilhó| Estarreja|\n",
      "|    1| 1240|  75|        1|      New|   Rent|   Apartament|  Glória e Vera Cruz|    Aveiro|\n",
      "|    3| 1300| 153|        3|Renovated|   Rent|   Apartament|             Esmoriz|      Ovar|\n",
      "|    0|  550|  40|        1|     Used|   Rent|   Apartament|  Glória e Vera Cruz|    Aveiro|\n",
      "|    2|  625|  87|        1|     Used|   Rent|   Apartament|                Ovar|  São João|\n",
      "|    2|  750|  74|        2|     Used|   Rent|   Apartament|   Gafanha da Nazaré|    Ílhavo|\n",
      "|    1| 1500| 104|        3|      New|   Rent|   Apartament|  Glória e Vera Cruz|    Aveiro|\n",
      "|    2| 1100|  90|        2|     Used|   Rent|   Apartament|             Espinho|    Aveiro|\n",
      "|    1|  750|  68|        1|     Used|   Rent|   Apartament|  Glória e Vera Cruz|    Aveiro|\n",
      "+-----+-----+----+---------+---------+-------+-------------+--------------------+----------+\n",
      "only showing top 20 rows\n",
      "\n"
     ]
    }
   ],
   "source": [
    "#Mostrar o dataset com as alterações\n",
    "df1.show()"
   ]
  },
  {
   "cell_type": "code",
   "execution_count": 12,
   "id": "b0ed437f",
   "metadata": {
    "scrolled": true
   },
   "outputs": [
    {
     "data": {
      "text/plain": [
       "459"
      ]
     },
     "execution_count": 12,
     "metadata": {},
     "output_type": "execute_result"
    }
   ],
   "source": [
    "#Contamos quantos County existem\n",
    "df1.select('County').distinct().count()"
   ]
  },
  {
   "cell_type": "code",
   "execution_count": 13,
   "id": "57d045f1",
   "metadata": {
    "scrolled": true
   },
   "outputs": [
    {
     "name": "stdout",
     "output_type": "stream",
     "text": [
      "+------------------+-----------+\n",
      "|            County|House_count|\n",
      "+------------------+-----------+\n",
      "|            Lisboa|       8653|\n",
      "| Vila Nova de Gaia|       5521|\n",
      "|             Porto|       5126|\n",
      "|              Faro|       2808|\n",
      "|            Aveiro|       2509|\n",
      "|           Cascais|       2334|\n",
      "|            Sintra|       2179|\n",
      "|        Matosinhos|       2061|\n",
      "|   Santo Ildefonso|       1875|\n",
      "|           Setúbal|       1824|\n",
      "|            Seixal|       1673|\n",
      "|             Loulé|       1633|\n",
      "|          Sesimbra|       1580|\n",
      "|         Albufeira|       1573|\n",
      "|           Montijo|       1485|\n",
      "|              Maia|       1481|\n",
      "|             Braga|       1374|\n",
      "|           Funchal|       1185|\n",
      "|           Amadora|       1151|\n",
      "|          Gondomar|       1121|\n",
      "+------------------+-----------+\n",
      "only showing top 20 rows\n",
      "\n"
     ]
    }
   ],
   "source": [
    "#Mostramos o número de casa de uma forma mais clara\n",
    "df1.groupBy('County').agg(count('Area').alias('House_count')).orderBy(desc('House_count')).show()"
   ]
  },
  {
   "cell_type": "code",
   "execution_count": 14,
   "id": "54df3403",
   "metadata": {
    "scrolled": true
   },
   "outputs": [
    {
     "name": "stdout",
     "output_type": "stream",
     "text": [
      "+--------------------+---------+\n",
      "|              County|    Price|\n",
      "+--------------------+---------+\n",
      "| Vila Nova de Fam...|285000000|\n",
      "|              Lisboa|190658610|\n",
      "|              Lisboa|190658610|\n",
      "|              Lisboa|168689950|\n",
      "|              Lisboa|164689950|\n",
      "|              Lisboa|140645234|\n",
      "|              Lisboa|138435353|\n",
      "|              Lisboa|137896713|\n",
      "|            Bragança|123556750|\n",
      "|              Lisboa|122716281|\n",
      "|              Lisboa|118545045|\n",
      "|              Lisboa|112955157|\n",
      "|              Lisboa| 91770455|\n",
      "|              Lisboa| 91410042|\n",
      "|              Lisboa| 84389760|\n",
      "|              Lisboa| 83661332|\n",
      "|              Lisboa| 80092440|\n",
      "|              Lisboa| 77371568|\n",
      "|              Lisboa| 74687445|\n",
      "|              Lisboa| 73764893|\n",
      "+--------------------+---------+\n",
      "only showing top 20 rows\n",
      "\n"
     ]
    }
   ],
   "source": [
    "#Organizar o dataset por county em relação ao preço\n",
    "df_price = df1.select('County','Price').orderBy(desc('Price')).show()"
   ]
  },
  {
   "cell_type": "code",
   "execution_count": 15,
   "id": "95b848fd",
   "metadata": {
    "scrolled": true
   },
   "outputs": [
    {
     "name": "stdout",
     "output_type": "stream",
     "text": [
      "+--------------------+---------+----+\n",
      "|              County|    Price|Area|\n",
      "+--------------------+---------+----+\n",
      "| Vila Nova de Fam...|285000000| 441|\n",
      "|              Lisboa|190658610| 162|\n",
      "|              Lisboa|190658610| 162|\n",
      "|              Lisboa|168689950| 185|\n",
      "|              Lisboa|164689950| 185|\n",
      "|              Lisboa|140645234| 126|\n",
      "|              Lisboa|138435353| 123|\n",
      "|              Lisboa|137896713| 120|\n",
      "|            Bragança|123556750| 100|\n",
      "|              Lisboa|122716281| 104|\n",
      "|              Lisboa|118545045| 104|\n",
      "|              Lisboa|112955157| 110|\n",
      "|              Lisboa| 91770455|  96|\n",
      "|              Lisboa| 91410042|  95|\n",
      "|              Lisboa| 84389760|  68|\n",
      "|              Lisboa| 83661332|  85|\n",
      "|              Lisboa| 80092440|  68|\n",
      "|              Lisboa| 77371568|  81|\n",
      "|              Lisboa| 74687445|  76|\n",
      "|              Lisboa| 73764893|  74|\n",
      "+--------------------+---------+----+\n",
      "only showing top 20 rows\n",
      "\n"
     ]
    }
   ],
   "source": [
    "#Colocamos a área também\n",
    "df_price = df1.select('County','Price','Area').orderBy(desc('Price')).show()"
   ]
  },
  {
   "cell_type": "code",
   "execution_count": 16,
   "id": "05e53de0",
   "metadata": {
    "scrolled": true
   },
   "outputs": [
    {
     "name": "stdout",
     "output_type": "stream",
     "text": [
      "+--------------------+------------------+\n",
      "|              County|    avg(RoomPrice)|\n",
      "+--------------------+------------------+\n",
      "|          Matosinhos|101673.71423869426|\n",
      "|     Aguiar da Beira|21070.194003527336|\n",
      "|              Oeiras|104075.51592945983|\n",
      "|             Montijo| 72795.03349067195|\n",
      "| Santa Cruz e São...| 53061.33219954648|\n",
      "| Vila Velha de Rodão|12694.583333333332|\n",
      "|           Estarreja|43751.388578869046|\n",
      "|             Batalha| 33195.72072072072|\n",
      "|            Lourinhã| 69144.14912038315|\n",
      "|     Câmara de Lobos|60568.824404761916|\n",
      "|            Mealhada| 33261.28271128271|\n",
      "|      Ameal e Arzila| 27774.50980392157|\n",
      "|             Tondela| 21977.31922398589|\n",
      "|            Penafiel| 43729.10962931931|\n",
      "|     Cova da Piedade|57976.604497354434|\n",
      "|              Anadia| 26088.79144282759|\n",
      "| Cristelo Covo e ...| 37707.53968253968|\n",
      "|               Trofa| 51484.20428416341|\n",
      "| Nossa Senhora da...|13004.780505952382|\n",
      "|   Vale e Vila Maior|48890.029761904756|\n",
      "+--------------------+------------------+\n",
      "only showing top 20 rows\n",
      "\n",
      "root\n",
      " |-- County: string (nullable = true)\n",
      " |-- Rooms: integer (nullable = true)\n",
      " |-- Price: integer (nullable = true)\n",
      " |-- Area: integer (nullable = true)\n",
      " |-- Bathrooms: integer (nullable = true)\n",
      " |-- Condition: string (nullable = true)\n",
      " |-- AdsType: string (nullable = true)\n",
      " |-- ProprietyType: string (nullable = true)\n",
      " |-- Perish: string (nullable = true)\n",
      " |-- TotalRooms: integer (nullable = true)\n",
      " |-- avg(RoomPrice): double (nullable = true)\n",
      "\n"
     ]
    }
   ],
   "source": [
    "#Criamos uma coluna de Rooms Totais que é a soma dos Rooms mais as Bathrooms e fazemos a média o preço por divisão por Concelho\n",
    "df1 = df1.withColumn('TotalRooms', df1.Rooms + df1.Bathrooms) \n",
    "\n",
    "room_price = df1.withColumn(\"RoomPrice\", df1.Price / df1.TotalRooms)\n",
    "room_price = room_price.groupBy(\"County\").mean(\"RoomPrice\")\n",
    "\n",
    "\n",
    "room_price.show()\n",
    "\n",
    "df2 = df1.join(room_price,on='County',how='inner')\n",
    "df2.printSchema()"
   ]
  },
  {
   "cell_type": "code",
   "execution_count": 17,
   "id": "2b5c2eb6",
   "metadata": {},
   "outputs": [
    {
     "name": "stdout",
     "output_type": "stream",
     "text": [
      "+--------------------+------------------+\n",
      "|              County|    avg(AreaPrice)|\n",
      "+--------------------+------------------+\n",
      "|          Matosinhos|3948.7979717840785|\n",
      "|     Aguiar da Beira| 765.8850431199836|\n",
      "|              Oeiras| 5840.673300492195|\n",
      "|             Montijo|2545.6494372053594|\n",
      "| Santa Cruz e São...|2439.5103215384297|\n",
      "| Vila Velha de Rodão|  617.838030929693|\n",
      "|           Estarreja| 1565.131212321675|\n",
      "|             Batalha|1072.0271660561484|\n",
      "|            Lourinhã|3336.1173661567022|\n",
      "|     Câmara de Lobos| 1632.424658912842|\n",
      "|            Mealhada| 907.7479711008058|\n",
      "|      Ameal e Arzila|1269.7216179812303|\n",
      "|             Tondela| 689.6714967646462|\n",
      "|            Penafiel|1241.1012128298557|\n",
      "|     Cova da Piedade|2707.6459615369135|\n",
      "|              Anadia|2431.3835623260197|\n",
      "| Cristelo Covo e ...|1213.2934222307595|\n",
      "|               Trofa|1544.2215969618605|\n",
      "| Nossa Senhora da...| 496.7207486429944|\n",
      "|   Vale e Vila Maior| 1353.274579822306|\n",
      "+--------------------+------------------+\n",
      "only showing top 20 rows\n",
      "\n",
      "root\n",
      " |-- County: string (nullable = true)\n",
      " |-- Rooms: integer (nullable = true)\n",
      " |-- Price: integer (nullable = true)\n",
      " |-- Area: integer (nullable = true)\n",
      " |-- Bathrooms: integer (nullable = true)\n",
      " |-- Condition: string (nullable = true)\n",
      " |-- AdsType: string (nullable = true)\n",
      " |-- ProprietyType: string (nullable = true)\n",
      " |-- Perish: string (nullable = true)\n",
      " |-- TotalRooms: integer (nullable = true)\n",
      " |-- avg(RoomPrice): double (nullable = true)\n",
      " |-- avg(AreaPrice): double (nullable = true)\n",
      "\n"
     ]
    }
   ],
   "source": [
    "#Preço por média da área por Concelho \n",
    "area_price = df2.withColumn('AreaPrice', df2.Price / df2.Area)\n",
    "area_price = area_price.groupBy('County').mean('AreaPrice')\n",
    "\n",
    "area_price.show()\n",
    "\n",
    "df3 = df2.join(area_price,on='County',how='inner')\n",
    "df3.printSchema()"
   ]
  },
  {
   "cell_type": "code",
   "execution_count": 18,
   "id": "5d1ae468",
   "metadata": {},
   "outputs": [
    {
     "name": "stdout",
     "output_type": "stream",
     "text": [
      "+--------------------+--------------------+\n",
      "|              County| avg(BathroomsValue)|\n",
      "+--------------------+--------------------+\n",
      "|          Matosinhos|3.034229067775083E-5|\n",
      "|     Aguiar da Beira|1.860759158243392...|\n",
      "|              Oeiras|3.943759190593265E-5|\n",
      "|             Montijo|2.049763741372315...|\n",
      "| Santa Cruz e São...|9.645632852887685E-5|\n",
      "| Vila Velha de Rodão|2.774414371223929...|\n",
      "|           Estarreja|4.556707502174853E-5|\n",
      "|             Batalha|1.629030233666758...|\n",
      "|            Lourinhã|1.052622483298463...|\n",
      "|     Câmara de Lobos|9.330675600688387E-6|\n",
      "|            Mealhada|1.799161043699414...|\n",
      "|      Ameal e Arzila|1.986418327199794E-5|\n",
      "|             Tondela| 1.38683744663186E-4|\n",
      "|            Penafiel|1.247148993298064E-4|\n",
      "|     Cova da Piedade|8.435788303604506E-5|\n",
      "|              Anadia|3.448955355583492E-5|\n",
      "| Cristelo Covo e ...| 6.73716526812958E-5|\n",
      "|               Trofa|1.758743000972312E-5|\n",
      "| Nossa Senhora da...|3.054200484165672E-5|\n",
      "|   Vale e Vila Maior|9.799827108045638E-6|\n",
      "+--------------------+--------------------+\n",
      "only showing top 20 rows\n",
      "\n",
      "root\n",
      " |-- County: string (nullable = true)\n",
      " |-- Rooms: integer (nullable = true)\n",
      " |-- Price: integer (nullable = true)\n",
      " |-- Area: integer (nullable = true)\n",
      " |-- Bathrooms: integer (nullable = true)\n",
      " |-- Condition: string (nullable = true)\n",
      " |-- AdsType: string (nullable = true)\n",
      " |-- ProprietyType: string (nullable = true)\n",
      " |-- Perish: string (nullable = true)\n",
      " |-- TotalRooms: integer (nullable = true)\n",
      " |-- avg(RoomPrice): double (nullable = true)\n",
      " |-- avg(AreaPrice): double (nullable = true)\n",
      " |-- avg(BathroomsValue): double (nullable = true)\n",
      "\n"
     ]
    }
   ],
   "source": [
    "#Preço médio de casa de banho por Concelho \n",
    "bathrooms_price = df1.withColumn('BathroomsValue',col(\"Bathrooms\") / col(\"Price\"))\n",
    "bathrooms_price = bathrooms_price.groupBy('County').mean('BathroomsValue')\n",
    "\n",
    "bathrooms_price.show()\n",
    "\n",
    "df4 = df3.join(bathrooms_price,on='County',how='inner')\n",
    "df4.printSchema()"
   ]
  },
  {
   "cell_type": "code",
   "execution_count": 19,
   "id": "6d045554",
   "metadata": {},
   "outputs": [
    {
     "name": "stdout",
     "output_type": "stream",
     "text": [
      "+-------------------------------------+------------------+------------------+---------------------+\n",
      "|County                               |avg(RoomPrice)    |avg(AreaPrice)    |avg(BathroomsValue)  |\n",
      "+-------------------------------------+------------------+------------------+---------------------+\n",
      "| Matosinhos                          |101673.71423869426|3948.7979717840785|3.034229067775083E-5 |\n",
      "| Aguiar da Beira                     |21070.194003527336|765.8850431199836 |1.8607591582433922E-5|\n",
      "| Oeiras                              |104075.51592945983|5840.673300492195 |3.943759190593265E-5 |\n",
      "| Montijo                             |72795.03349067195 |2545.6494372053594|2.0497637413723153E-5|\n",
      "| Santa Cruz e São Bartolomeu da Serra|53061.33219954648 |2439.5103215384297|9.645632852887685E-5 |\n",
      "+-------------------------------------+------------------+------------------+---------------------+\n",
      "only showing top 5 rows\n",
      "\n"
     ]
    }
   ],
   "source": [
    "df_final = df4.select('County','avg(RoomPrice)','avg(AreaPrice)','avg(BathroomsValue)').distinct()\n",
    "df_final.show(5,0)"
   ]
  },
  {
   "cell_type": "code",
   "execution_count": 20,
   "id": "3cf06b58",
   "metadata": {
    "scrolled": true
   },
   "outputs": [
    {
     "name": "stdout",
     "output_type": "stream",
     "text": [
      "+------------------------------------------------------------+\n",
      "|standardized                                                |\n",
      "+------------------------------------------------------------+\n",
      "|[1.5605079550199226,3.115733955183846,0.051247572309285755] |\n",
      "|[0.3026667129996346,0.6456842792718288,0.031427880816581974]|\n",
      "+------------------------------------------------------------+\n",
      "only showing top 2 rows\n",
      "\n"
     ]
    }
   ],
   "source": [
    "###### K MEANS ######\n",
    "#Treinamos a data com as nossas features\n",
    "from pyspark.ml.feature import VectorAssembler\n",
    "from pyspark.ml.feature import StandardScaler\n",
    "\n",
    "assemble=VectorAssembler(inputCols=[\n",
    "    'avg(AreaPrice)','avg(RoomPrice)','avg(BathroomsValue)'\n",
    "], outputCol='features')\n",
    "\n",
    "assembled_data=assemble.transform(df_final)\n",
    "\n",
    "scale=StandardScaler(inputCol='features',outputCol='standardized')\n",
    "data_scale=scale.fit(assembled_data)\n",
    "data_scale_output=data_scale.transform(assembled_data)\n",
    "\n",
    "data_scale_output.select('standardized').show(2,truncate=False)"
   ]
  },
  {
   "cell_type": "code",
   "execution_count": 21,
   "id": "476d7293",
   "metadata": {},
   "outputs": [],
   "source": [
    "from pyspark.ml.clustering import KMeans\n",
    "from pyspark.ml.evaluation import ClusteringEvaluator\n",
    "import numpy as np\n",
    "\n",
    "cost = np.zeros(10)\n",
    "\n",
    "evaluator = ClusteringEvaluator(predictionCol='prediction', featuresCol='standardized',metricName='silhouette', distanceMeasure='squaredEuclidean')\n",
    "\n",
    "for i in range(2,10):\n",
    "    KMeans_algo=KMeans(featuresCol='standardized', k=i)\n",
    "    KMeans_fit=KMeans_algo.fit(data_scale_output)\n",
    "    output=KMeans_fit.transform(data_scale_output)\n",
    "    cost[i] = KMeans_fit.summary.trainingCost"
   ]
  },
  {
   "cell_type": "code",
   "execution_count": 22,
   "id": "f7e80ad0",
   "metadata": {},
   "outputs": [
    {
     "data": {
      "image/png": "[encoded data removed]",
      "text/plain": [
       "<Figure size 432x288 with 1 Axes>"
      ]
     },
     "metadata": {
      "needs_background": "light"
     },
     "output_type": "display_data"
    }
   ],
   "source": [
    "import pandas as pd\n",
    "import pylab as pl\n",
    "df_cost = pd.DataFrame(cost[2:])\n",
    "df_cost.columns = [\"cost\"]\n",
    "new_col = range(2,10)\n",
    "df_cost.insert(0, 'cluster', new_col)\n",
    "pl.plot(df_cost.cluster, df_cost.cost)\n",
    "pl.xlabel('Number of Clusters')\n",
    "pl.ylabel('Score')\n",
    "pl.title('Elbow Curve')\n",
    "pl.show()"
   ]
  },
  {
   "cell_type": "code",
   "execution_count": 23,
   "id": "c96c94ca",
   "metadata": {},
   "outputs": [],
   "source": [
    "KMeans_algo=KMeans(featuresCol='standardized', k=4)\n",
    "KMeans_fit=KMeans_algo.fit(data_scale_output)"
   ]
  },
  {
   "cell_type": "code",
   "execution_count": 24,
   "id": "56e13758",
   "metadata": {},
   "outputs": [
    {
     "name": "stdout",
     "output_type": "stream",
     "text": [
      "+-------------------------------------+------------------+------------------+---------------------+------------------------------------------------------------+------------------------------------------------------------+----------+\n",
      "|County                               |avg(RoomPrice)    |avg(AreaPrice)    |avg(BathroomsValue)  |features                                                    |standardized                                                |prediction|\n",
      "+-------------------------------------+------------------+------------------+---------------------+------------------------------------------------------------+------------------------------------------------------------+----------+\n",
      "| Matosinhos                          |101673.71423869426|3948.7979717840785|3.034229067775083E-5 |[3948.7979717840785,101673.71423869426,3.034229067775083E-5]|[1.5605079550199226,3.115733955183846,0.051247572309285755] |0         |\n",
      "| Aguiar da Beira                     |21070.194003527336|765.8850431199836 |1.8607591582433922E-5|[765.8850431199836,21070.194003527336,1.8607591582433922E-5]|[0.3026667129996346,0.6456842792718288,0.031427880816581974]|1         |\n",
      "| Oeiras                              |104075.51592945983|5840.673300492195 |3.943759190593265E-5 |[5840.673300492195,104075.51592945983,3.943759190593265E-5] |[2.308149774492671,3.1893358210895992,0.06660936922555385]  |3         |\n",
      "| Montijo                             |72795.03349067195 |2545.6494372053594|2.0497637413723153E-5|[2545.6494372053594,72795.03349067195,2.0497637413723153E-5]|[1.0060039095026587,2.230762978552761,0.03462013355173502]  |0         |\n",
      "| Santa Cruz e São Bartolomeu da Serra|53061.33219954648 |2439.5103215384297|9.645632852887685E-5 |[2439.5103215384297,53061.33219954648,9.645632852887685E-5] |[0.9640592631772376,1.6260347689599668,0.16291296934270413] |0         |\n",
      "+-------------------------------------+------------------+------------------+---------------------+------------------------------------------------------------+------------------------------------------------------------+----------+\n",
      "only showing top 5 rows\n",
      "\n"
     ]
    }
   ],
   "source": [
    "preds=KMeans_fit.transform(data_scale_output)\n",
    "\n",
    "preds.show(5,0)"
   ]
  },
  {
   "cell_type": "code",
   "execution_count": 25,
   "id": "76491ec3",
   "metadata": {},
   "outputs": [
    {
     "data": {
      "image/png": "[encoded data removed]",
      "text/plain": [
       "<Figure size 432x288 with 1 Axes>"
      ]
     },
     "metadata": {
      "needs_background": "light"
     },
     "output_type": "display_data"
    },
    {
     "data": {
      "image/png": "[encoded data removed]",
      "text/plain": [
       "<Figure size 432x288 with 1 Axes>"
      ]
     },
     "metadata": {
      "needs_background": "light"
     },
     "output_type": "display_data"
    },
    {
     "data": {
      "image/png": "[encoded data removed]",
      "text/plain": [
       "<Figure size 432x288 with 1 Axes>"
      ]
     },
     "metadata": {
      "needs_background": "light"
     },
     "output_type": "display_data"
    }
   ],
   "source": [
    "import matplotlib.pyplot as plt\n",
    "import seaborn as sns\n",
    "\n",
    "df_viz = preds.select('avg(RoomPrice)','avg(AreaPrice)','avg(BathroomsValue)','prediction')\n",
    "df_viz = df_viz.toPandas()\n",
    "avg_df = df_viz.groupby(['prediction'], as_index=False).mean()\n",
    "\n",
    "list1 = ['avg(RoomPrice)','avg(AreaPrice)','avg(BathroomsValue)']\n",
    "\n",
    "for i in list1:\n",
    "    sns.barplot(x='prediction',y=str(i),data=avg_df)\n",
    "    plt.show()"
   ]
  },
  {
   "cell_type": "code",
   "execution_count": 26,
   "id": "16a2ef08",
   "metadata": {},
   "outputs": [],
   "source": [
    "#### REGRESSÃO LOGISTICA ####\n",
    "from pyspark.sql import SparkSession\n",
    "from pyspark.ml.evaluation import BinaryClassificationEvaluator\n",
    "from pyspark.ml.feature import VectorAssembler\n",
    "from pyspark.ml.classification import LogisticRegression\n",
    "from pyspark.ml.feature import StandardScaler"
   ]
  },
  {
   "cell_type": "code",
   "execution_count": 27,
   "id": "1df924a2",
   "metadata": {},
   "outputs": [],
   "source": [
    "spark = SparkSession.builder.appName(\"Price\").getOrCreate()"
   ]
  },
  {
   "cell_type": "code",
   "execution_count": 28,
   "id": "7fec2f6a",
   "metadata": {},
   "outputs": [
    {
     "name": "stdout",
     "output_type": "stream",
     "text": [
      "+-----+-----+----+---------+---------+-------+-------------+-------+\n",
      "|Rooms|Price|Area|Bathrooms|Condition|AdsType|ProprietyType|County |\n",
      "+-----+-----+----+---------+---------+-------+-------------+-------+\n",
      "|3    |1000 |125 |3        |Used     |Rent   |Apartament   | Aveiro|\n",
      "|3    |750  |138 |2        |New      |Rent   |Apartament   | Ovar  |\n",
      "|1    |450  |32  |2        |New      |Rent   |Apartament   | Ílhavo|\n",
      "|3    |1300 |129 |3        |Used     |Rent   |Apartament   | Ovar  |\n",
      "|3    |1300 |153 |3        |Renovated|Rent   |Apartament   | Ovar  |\n",
      "+-----+-----+----+---------+---------+-------+-------------+-------+\n",
      "only showing top 5 rows\n",
      "\n",
      "root\n",
      " |-- Rooms: integer (nullable = true)\n",
      " |-- Price: integer (nullable = true)\n",
      " |-- Area: integer (nullable = true)\n",
      " |-- Bathrooms: integer (nullable = true)\n",
      " |-- Condition: string (nullable = true)\n",
      " |-- AdsType: string (nullable = true)\n",
      " |-- ProprietyType: string (nullable = true)\n",
      " |-- County: string (nullable = true)\n",
      "\n"
     ]
    }
   ],
   "source": [
    "#preparamos o dataset para a regressão logistica\n",
    "df5 = df1\n",
    "df5 = df5.drop('Perish', 'TotalRooms')\n",
    "df5.show(5,0)\n",
    "df5 = df5.dropna()\n",
    "df5.printSchema()"
   ]
  },
  {
   "cell_type": "code",
   "execution_count": 29,
   "id": "3b6cc34c",
   "metadata": {},
   "outputs": [],
   "source": [
    "#import do StringIndexer\n",
    "from pyspark.ml.feature import StringIndexer"
   ]
  },
  {
   "cell_type": "code",
   "execution_count": 30,
   "id": "f090462f",
   "metadata": {},
   "outputs": [
    {
     "name": "stdout",
     "output_type": "stream",
     "text": [
      "+-----+-----+----+---------+--------------+------------+------------------+-----------+\n",
      "|Rooms|Price|Area|Bathrooms|conditionIndex|adsTypeIndex|proprietyTypeIndex|countyIndex|\n",
      "+-----+-----+----+---------+--------------+------------+------------------+-----------+\n",
      "|3    |1000 |125 |3        |0.0           |1.0         |0.0               |4.0        |\n",
      "|3    |750  |138 |2        |1.0           |1.0         |0.0               |104.0      |\n",
      "|1    |450  |32  |2        |1.0           |1.0         |0.0               |25.0       |\n",
      "|3    |1300 |129 |3        |0.0           |1.0         |0.0               |104.0      |\n",
      "|3    |1300 |153 |3        |3.0           |1.0         |0.0               |104.0      |\n",
      "+-----+-----+----+---------+--------------+------------+------------------+-----------+\n",
      "only showing top 5 rows\n",
      "\n"
     ]
    }
   ],
   "source": [
    "#Usamos o stringIndexer para alterar os valores string para int, para os podermos utilizar para a regressão logistica\n",
    "condition_indexer = StringIndexer(inputCol=\"Condition\", outputCol=\"conditionIndex\")\n",
    "df5 = condition_indexer.fit(df5).transform(df5)\n",
    "df5 = df5.drop('Condition')\n",
    "\n",
    "adsType_indexer = StringIndexer(inputCol=\"AdsType\", outputCol=\"adsTypeIndex\")\n",
    "df5 = adsType_indexer.fit(df5).transform(df5)\n",
    "df5 = df5.drop('AdsType')\n",
    "\n",
    "proprietyType_indexer = StringIndexer(inputCol=\"ProprietyType\", outputCol=\"proprietyTypeIndex\")\n",
    "df5 = proprietyType_indexer.fit(df5).transform(df5)\n",
    "df5 = df5.drop('ProprietyType')\n",
    "\n",
    "county_indexer = StringIndexer(inputCol=\"County\", outputCol=\"countyIndex\")\n",
    "df5 = county_indexer.fit(df5).transform(df5)\n",
    "df5 = df5.drop('County')\n",
    "df5.show(5,0)"
   ]
  },
  {
   "cell_type": "code",
   "execution_count": 31,
   "id": "be6ff4b8",
   "metadata": {},
   "outputs": [
    {
     "name": "stdout",
     "output_type": "stream",
     "text": [
      "+-----+-----+----+---------+--------------+------------+------------------+-----------+\n",
      "|Rooms|Price|Area|Bathrooms|conditionIndex|adsTypeIndex|proprietyTypeIndex|countyIndex|\n",
      "+-----+-----+----+---------+--------------+------------+------------------+-----------+\n",
      "|3    |0    |125 |3        |0.0           |1.0         |0.0               |4.0        |\n",
      "|3    |0    |138 |2        |1.0           |1.0         |0.0               |104.0      |\n",
      "|1    |0    |32  |2        |1.0           |1.0         |0.0               |25.0       |\n",
      "|3    |0    |129 |3        |0.0           |1.0         |0.0               |104.0      |\n",
      "|3    |0    |153 |3        |3.0           |1.0         |0.0               |104.0      |\n",
      "+-----+-----+----+---------+--------------+------------+------------------+-----------+\n",
      "only showing top 5 rows\n",
      "\n"
     ]
    }
   ],
   "source": [
    "#dividimos em clusters o preço para a regressão logistica poder prever o preço\n",
    "df6 = df5\n",
    "df6 = df6.withColumn(\"Price\", when(col(\"Price\")<4999, 0).when(col(\"Price\")<99999, 1).when(col(\"Price\")<499999, 2).otherwise(3))\n",
    "df6.show(5,0)"
   ]
  },
  {
   "cell_type": "code",
   "execution_count": 32,
   "id": "c5e486d8",
   "metadata": {},
   "outputs": [
    {
     "name": "stdout",
     "output_type": "stream",
     "text": [
      "+-----+-----+----+---------+--------------+------------+------------------+-----------+---------------------------------+\n",
      "|Rooms|Price|Area|Bathrooms|conditionIndex|adsTypeIndex|proprietyTypeIndex|countyIndex|features                         |\n",
      "+-----+-----+----+---------+--------------+------------+------------------+-----------+---------------------------------+\n",
      "|3    |0    |125 |3        |0.0           |1.0         |0.0               |4.0        |[3.0,125.0,3.0,0.0,1.0,0.0,4.0]  |\n",
      "|3    |0    |138 |2        |1.0           |1.0         |0.0               |104.0      |[3.0,138.0,2.0,1.0,1.0,0.0,104.0]|\n",
      "|1    |0    |32  |2        |1.0           |1.0         |0.0               |25.0       |[1.0,32.0,2.0,1.0,1.0,0.0,25.0]  |\n",
      "|3    |0    |129 |3        |0.0           |1.0         |0.0               |104.0      |[3.0,129.0,3.0,0.0,1.0,0.0,104.0]|\n",
      "|3    |0    |153 |3        |3.0           |1.0         |0.0               |104.0      |[3.0,153.0,3.0,3.0,1.0,0.0,104.0]|\n",
      "+-----+-----+----+---------+--------------+------------+------------------+-----------+---------------------------------+\n",
      "only showing top 5 rows\n",
      "\n"
     ]
    }
   ],
   "source": [
    "#fazemos o vetor para a regressão logistica\n",
    "assembler = VectorAssembler(inputCols = ['Rooms','Area', 'Bathrooms', 'conditionIndex', 'adsTypeIndex', 'proprietyTypeIndex', 'countyIndex'], outputCol='features')\n",
    "output = assembler.transform(df6)\n",
    "output.show(5,0)"
   ]
  },
  {
   "cell_type": "code",
   "execution_count": 33,
   "id": "05f419e0",
   "metadata": {},
   "outputs": [
    {
     "name": "stdout",
     "output_type": "stream",
     "text": [
      "+----------------------------------------------------------------------------------------------------------------------+\n",
      "|standardized                                                                                                          |\n",
      "+----------------------------------------------------------------------------------------------------------------------+\n",
      "|[2.4182330926992543,0.004114256752554829,3.0104570105450694,0.0,5.533056486030905,0.0,0.06428014838597373]            |\n",
      "|[2.4182330926992543,0.004542139454820531,2.0069713403633798,0.818081836323632,5.533056486030905,0.0,1.671283858035317]|\n",
      "+----------------------------------------------------------------------------------------------------------------------+\n",
      "only showing top 2 rows\n",
      "\n"
     ]
    }
   ],
   "source": [
    "#standarizamos \n",
    "scale=StandardScaler(inputCol='features',outputCol='standardized')\n",
    "scale=scale.fit(output)\n",
    "scale_output= scale.transform(output)\n",
    "\n",
    "scale_output.select('standardized').show(2,truncate=False)"
   ]
  },
  {
   "cell_type": "code",
   "execution_count": 34,
   "id": "d0a7f167",
   "metadata": {
    "scrolled": true
   },
   "outputs": [
    {
     "name": "stdout",
     "output_type": "stream",
     "text": [
      "+---------------------------------+-----+\n",
      "|features                         |Price|\n",
      "+---------------------------------+-----+\n",
      "|[3.0,125.0,3.0,0.0,1.0,0.0,4.0]  |0    |\n",
      "|[3.0,138.0,2.0,1.0,1.0,0.0,104.0]|0    |\n",
      "|[1.0,32.0,2.0,1.0,1.0,0.0,25.0]  |0    |\n",
      "|[3.0,129.0,3.0,0.0,1.0,0.0,104.0]|0    |\n",
      "|[3.0,153.0,3.0,3.0,1.0,0.0,104.0]|0    |\n",
      "+---------------------------------+-----+\n",
      "only showing top 5 rows\n",
      "\n"
     ]
    }
   ],
   "source": [
    "#dataframe final\n",
    "finalised_data = scale_output.select(\"features\", \"Price\")\n",
    "finalised_data.show(5,0)"
   ]
  },
  {
   "cell_type": "code",
   "execution_count": 35,
   "id": "ae81b5be",
   "metadata": {},
   "outputs": [],
   "source": [
    "#treinamos a data em 80% e a data de teste é 20%\n",
    "train, test = finalised_data.randomSplit([0.8, 0.2])"
   ]
  },
  {
   "cell_type": "code",
   "execution_count": 36,
   "id": "7c27dd23",
   "metadata": {},
   "outputs": [],
   "source": [
    "#aplicamos o modelo\n",
    "lr = LogisticRegression(featuresCol='features',labelCol='Price')\n",
    "lrn = lr.fit(train)\n",
    "predictions=lrn.transform(test)"
   ]
  },
  {
   "cell_type": "code",
   "execution_count": 37,
   "id": "2bb1ed17",
   "metadata": {
    "scrolled": true
   },
   "outputs": [
    {
     "name": "stdout",
     "output_type": "stream",
     "text": [
      "+--------------------+-----+--------------------+--------------------+----------+\n",
      "|            features|Price|       rawPrediction|         probability|prediction|\n",
      "+--------------------+-----+--------------------+--------------------+----------+\n",
      "|(7,[0,1,2],[1.0,2...|  2.0|[-2.4775103985347...|[0.00392309220746...|       2.0|\n",
      "|(7,[0,1,2],[1.0,2...|  2.0|[-2.4775103985347...|[0.00392309220746...|       2.0|\n",
      "|(7,[0,1,2],[1.0,2...|  2.0|[-2.4772708846905...|[0.00392319430279...|       2.0|\n",
      "|(7,[0,1,2],[1.0,2...|  2.0|[-2.4765523431578...|[0.00392350004719...|       2.0|\n",
      "|(7,[0,1,2],[1.0,2...|  2.0|[-2.4765523431578...|[0.00392350004719...|       2.0|\n",
      "|(7,[0,1,2],[1.0,3...|  2.0|[-2.4763128293135...|[0.00392360178171...|       2.0|\n",
      "|(7,[0,1,2],[1.0,3...|  2.0|[-2.4763128293135...|[0.00392360178171...|       2.0|\n",
      "|(7,[0,1,2],[1.0,3...|  2.0|[-2.4763128293135...|[0.00392360178171...|       2.0|\n",
      "|(7,[0,1,2],[1.0,3...|  2.0|[-2.4763128293135...|[0.00392360178171...|       2.0|\n",
      "|(7,[0,1,2],[1.0,3...|  2.0|[-2.4760733154693...|[0.00392370342623...|       2.0|\n",
      "|(7,[0,1,2],[1.0,3...|  2.0|[-2.4758338016251...|[0.00392380498081...|       2.0|\n",
      "|(7,[0,1,2],[1.0,3...|  2.0|[-2.4758338016251...|[0.00392380498081...|       2.0|\n",
      "|(7,[0,1,2],[1.0,3...|  2.0|[-2.4758338016251...|[0.00392380498081...|       2.0|\n",
      "|(7,[0,1,2],[1.0,3...|  2.0|[-2.4755942877808...|[0.00392390644553...|       2.0|\n",
      "|(7,[0,1,2],[1.0,3...|  2.0|[-2.4755942877808...|[0.00392390644553...|       2.0|\n",
      "|(7,[0,1,2],[1.0,3...|  2.0|[-2.4751152600923...|[0.00392410910571...|       2.0|\n",
      "|(7,[0,1,2],[1.0,3...|  2.0|[-2.4751152600923...|[0.00392410910571...|       2.0|\n",
      "|(7,[0,1,2],[1.0,3...|  2.0|[-2.4748757462481...|[0.00392421030132...|       2.0|\n",
      "|(7,[0,1,2],[1.0,3...|  2.0|[-2.4746362324039...|[0.00392431140739...|       2.0|\n",
      "|(7,[0,1,2],[1.0,3...|  2.0|[-2.4746362324039...|[0.00392431140739...|       2.0|\n",
      "+--------------------+-----+--------------------+--------------------+----------+\n",
      "only showing top 20 rows\n",
      "\n"
     ]
    }
   ],
   "source": [
    "#mostramos os resultados\n",
    "lrn_summary = lrn.summary\n",
    "lrn_summary.predictions.show()"
   ]
  },
  {
   "cell_type": "code",
   "execution_count": 38,
   "id": "4b223e7b",
   "metadata": {},
   "outputs": [
    {
     "name": "stdout",
     "output_type": "stream",
     "text": [
      "+-------+------------------+------------------+\n",
      "|summary|             Price|        prediction|\n",
      "+-------+------------------+------------------+\n",
      "|  count|             74359|             74359|\n",
      "|   mean| 2.124194784760419|2.0500948103121344|\n",
      "| stddev|0.5944060528570189|0.4824078685279478|\n",
      "|    min|               0.0|               0.0|\n",
      "|    max|               3.0|               3.0|\n",
      "+-------+------------------+------------------+\n",
      "\n"
     ]
    }
   ],
   "source": [
    "lrn_summary.predictions.describe().show(5)"
   ]
  },
  {
   "cell_type": "code",
   "execution_count": 39,
   "id": "30c984fb",
   "metadata": {},
   "outputs": [
    {
     "name": "stdout",
     "output_type": "stream",
     "text": [
      "0.9667908755911154\n"
     ]
    }
   ],
   "source": [
    "#taxa de previsão do modelo\n",
    "eval = BinaryClassificationEvaluator(rawPredictionCol = \"prediction\", labelCol = \"Price\")\n",
    "auc = eval.evaluate(predictions)\n",
    "print(auc)"
   ]
  },
  {
   "cell_type": "code",
   "execution_count": 40,
   "id": "a6e21ff8",
   "metadata": {},
   "outputs": [
    {
     "data": {
      "image/png": "[encoded data removed]",
      "text/plain": [
       "<Figure size 576x576 with 1 Axes>"
      ]
     },
     "metadata": {
      "needs_background": "light"
     },
     "output_type": "display_data"
    }
   ],
   "source": [
    "#fazemos a matrix confusão\n",
    "import matplotlib.pyplot as plt\n",
    "import numpy as np\n",
    "from sklearn.datasets import load_digits\n",
    "from sklearn.linear_model import LogisticRegression\n",
    "from sklearn.metrics import classification_report, confusion_matrix\n",
    "from sklearn.model_selection import train_test_split\n",
    "from sklearn.preprocessing import StandardScaler\n",
    "\n",
    "y_test = predictions.select(\"Price\")\n",
    "y_test = y_test.toPandas()\n",
    "\n",
    "y_pred = predictions.select(\"prediction\")\n",
    "y_pred = y_pred.toPandas()\n",
    "\n",
    "cm = confusion_matrix(y_test, y_pred)\n",
    "\n",
    "fig, ax = plt.subplots(figsize=(8, 8))\n",
    "ax.imshow(cm)\n",
    "ax.grid(False)\n",
    "ax.set_xlabel('Predicted outputs', color='black')\n",
    "ax.set_ylabel('Actual outputs', color='black')\n",
    "ax.xaxis.set(ticks=range(4))\n",
    "ax.yaxis.set(ticks=range(4))\n",
    "ax.set_ylim(3.5, -0.5)\n",
    "for i in range(4):\n",
    "    for j in range(4):\n",
    "        ax.text(j, i, cm[i, j], ha='center', va='center', color='cyan')\n",
    "plt.show()"
   ]
  }
 ],
 "metadata": {
  "kernelspec": {
   "display_name": "Python 3 (ipykernel)",
   "language": "python",
   "name": "python3"
  },
  "language_info": {
   "codemirror_mode": {
    "name": "ipython",
    "version": 3
   },
   "file_extension": ".py",
   "mimetype": "text/x-python",
   "name": "python",
   "nbconvert_exporter": "python",
   "pygments_lexer": "ipython3",
   "version": "3.9.7"
  }
 },
 "nbformat": 4,
 "nbformat_minor": 5
}
